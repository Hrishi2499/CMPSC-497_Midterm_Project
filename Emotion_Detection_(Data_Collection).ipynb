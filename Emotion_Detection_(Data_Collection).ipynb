{
  "nbformat": 4,
  "nbformat_minor": 0,
  "metadata": {
    "colab": {
      "provenance": []
    },
    "kernelspec": {
      "name": "python3",
      "display_name": "Python 3"
    },
    "language_info": {
      "name": "python"
    }
  },
  "cells": [
    {
      "cell_type": "markdown",
      "source": [
        "Move to the directory where the csv data is stored"
      ],
      "metadata": {
        "id": "IsHYpoZxDS6c"
      }
    },
    {
      "cell_type": "code",
      "execution_count": null,
      "metadata": {
        "id": "hX8E0X-Dv85y"
      },
      "outputs": [],
      "source": [
        "%cd /content/drive/MyDrive/CSE_497/Midterm_Project/"
      ]
    },
    {
      "cell_type": "markdown",
      "source": [
        "Importing dependencies"
      ],
      "metadata": {
        "id": "4UpvVy89DbfQ"
      }
    },
    {
      "cell_type": "code",
      "source": [
        "import pandas as pd\n",
        "import numpy as np\n",
        "from matplotlib import pyplot as plt\n",
        "import re\n",
        "\n",
        "import warnings\n",
        "warnings.filterwarnings('ignore')"
      ],
      "metadata": {
        "id": "zrPV0gYQwVkc"
      },
      "execution_count": null,
      "outputs": []
    },
    {
      "cell_type": "markdown",
      "source": [
        "Loading the dataset"
      ],
      "metadata": {
        "id": "oijQYnz_DmLo"
      }
    },
    {
      "cell_type": "code",
      "source": [
        "data = pd.read_csv('combined_emotion.csv')\n",
        "data.columns = ['Text', 'Emotion']\n",
        "data.head()"
      ],
      "metadata": {
        "id": "22D_ITlQ2KXB"
      },
      "execution_count": null,
      "outputs": []
    },
    {
      "cell_type": "code",
      "source": [
        "data['Emotion'].value_counts()"
      ],
      "metadata": {
        "id": "KepNI6yQ2YYu"
      },
      "execution_count": null,
      "outputs": []
    },
    {
      "cell_type": "markdown",
      "source": [
        "Remapping some of the labels"
      ],
      "metadata": {
        "id": "MtyF3sINEWyh"
      }
    },
    {
      "cell_type": "code",
      "source": [
        "convert = {\"anger\":\"anger\", \"love\":\"love\", \"fear\":\"fear\", 'suprise':'surprise', \"joy\":\"happiness\", \"sad\":\"sadness\"}\n",
        "data['Emotion'] = data['Emotion'].map(convert)\n",
        "data['Emotion'].value_counts()"
      ],
      "metadata": {
        "id": "1b1l8fwR2bgB"
      },
      "execution_count": null,
      "outputs": []
    },
    {
      "cell_type": "markdown",
      "source": [
        "EDA: Distribution of sentence lengths"
      ],
      "metadata": {
        "id": "Zb3GW3GVEdrD"
      }
    },
    {
      "cell_type": "code",
      "source": [
        "sentence_length = [len(i.split()) for i in data['Text']]\n",
        "plt.figure(figsize=(10, 5))\n",
        "plt.title('Distribution of Sentence Length')\n",
        "plt.xlabel('Sentence Length')\n",
        "plt.ylabel('Count of Sentences')\n",
        "plt.hist(sentence_length, bins=20)"
      ],
      "metadata": {
        "id": "8_MGAcZ2uGWF"
      },
      "execution_count": null,
      "outputs": []
    },
    {
      "cell_type": "markdown",
      "source": [
        "EDA: Category distribution"
      ],
      "metadata": {
        "id": "pFhFW1z7E-io"
      }
    },
    {
      "cell_type": "code",
      "source": [
        "plt.figure(figsize=(10, 5))\n",
        "plt.title('Distribution of Emotions')\n",
        "plt.xlabel('Sentiment')\n",
        "plt.ylabel('Count')\n",
        "data['Emotion'].value_counts().plot(kind='bar')"
      ],
      "metadata": {
        "id": "HmfkcgCyKsrj"
      },
      "execution_count": null,
      "outputs": []
    },
    {
      "cell_type": "markdown",
      "source": [
        "Loading another dataset to reduce class imbalance"
      ],
      "metadata": {
        "id": "FfiktfurFnvA"
      }
    },
    {
      "cell_type": "code",
      "source": [
        "df_train = pd.read_csv('train.txt', names=['Text', 'Emotion'], sep=';')\n",
        "df_val = pd.read_csv('val.txt', names=['Text', 'Emotion'], sep=';')\n",
        "df_test = pd.read_csv('test.txt', names=['Text', 'Emotion'], sep=';')\n",
        "\n",
        "df = pd.concat([df_train, df_val, df_test])\n",
        "\n",
        "df.columns = ['Text', 'Emotion']\n",
        "df.head()"
      ],
      "metadata": {
        "id": "6YIeoj_d2_x7"
      },
      "execution_count": null,
      "outputs": []
    },
    {
      "cell_type": "code",
      "source": [
        "df['Emotion'].value_counts()"
      ],
      "metadata": {
        "id": "5GCh9n7g6tuq"
      },
      "execution_count": null,
      "outputs": []
    },
    {
      "cell_type": "markdown",
      "source": [
        "Remapping some of the labels"
      ],
      "metadata": {
        "id": "uNOl6tWlFzrw"
      }
    },
    {
      "cell_type": "code",
      "source": [
        "convert = {'joy': 'happiness', 'anger': 'anger', 'surprise':'surprise', \"love\":\"love\", \"sadness\":\"sadness\"}\n",
        "df['Emotion'] = df['Emotion'].map(convert)\n",
        "df['Emotion'].value_counts()"
      ],
      "metadata": {
        "id": "2X1lSxfwMKLv"
      },
      "execution_count": null,
      "outputs": []
    },
    {
      "cell_type": "markdown",
      "source": [
        "Retaining only required data for resampling"
      ],
      "metadata": {
        "id": "-CiTwl7DF4oH"
      }
    },
    {
      "cell_type": "code",
      "source": [
        "df.drop(df[df['Emotion'] == 'happiness'].index, axis=0, inplace=True)\n",
        "df.drop(df[df['Emotion'] == 'sadness'].index, axis=0, inplace=True)\n",
        "df[\"Emotion\"].value_counts()"
      ],
      "metadata": {
        "id": "3Wj0P4ja59cy"
      },
      "execution_count": null,
      "outputs": []
    },
    {
      "cell_type": "markdown",
      "source": [
        "Merging the 2 datasets"
      ],
      "metadata": {
        "id": "eCdxy0tmGMDZ"
      }
    },
    {
      "cell_type": "code",
      "source": [
        "merged_df = pd.concat([df, data])\n",
        "merged_df['Emotion'].value_counts()"
      ],
      "metadata": {
        "id": "7_2mCzVK9x6z"
      },
      "execution_count": null,
      "outputs": []
    },
    {
      "cell_type": "code",
      "source": [
        "index = merged_df[merged_df['Emotion'] == 'sadness'].index\n",
        "length = len(index)\n",
        "merged_df.drop(np.random.choice(index, int(length*0.45), replace=False), axis=0, inplace=True)\n",
        "merged_df['Emotion'].value_counts()\n",
        "\n",
        "index = merged_df[merged_df['Emotion'] == 'happiness'].index\n",
        "length = len(index)\n",
        "merged_df.drop(np.random.choice(index, int(length*0.5), replace=False), axis=0, inplace=True)\n",
        "merged_df['Emotion'].value_counts()"
      ],
      "metadata": {
        "id": "60GW8X3M62nC"
      },
      "execution_count": null,
      "outputs": []
    },
    {
      "cell_type": "markdown",
      "source": [
        "EDA: category distribution after resampling"
      ],
      "metadata": {
        "id": "Mf4vH5ALGREx"
      }
    },
    {
      "cell_type": "code",
      "source": [
        "plt.figure(figsize=(10, 5))\n",
        "plt.title('Distribution of Emotions')\n",
        "plt.xlabel('Sentiment')\n",
        "plt.ylabel('Count')\n",
        "merged_df['Emotion'].value_counts().plot(kind='bar')"
      ],
      "metadata": {
        "id": "3ODVdDZD9vM0"
      },
      "execution_count": null,
      "outputs": []
    },
    {
      "cell_type": "code",
      "source": [
        "index = merged_df[merged_df['Text'].duplicated() == True].index\n",
        "merged_df.drop(index, axis = 0, inplace = True)\n",
        "merged_df = merged_df.sample(frac=1)\n",
        "merged_df = merged_df[['Text', 'Emotion']]"
      ],
      "metadata": {
        "id": "L-qvXjK3_F_Q"
      },
      "execution_count": null,
      "outputs": []
    },
    {
      "cell_type": "code",
      "source": [
        "normalized_df = merged_df.dropna()\n",
        "normalized_df['Emotion'].value_counts()"
      ],
      "metadata": {
        "id": "6zjCckUv-UBs"
      },
      "execution_count": null,
      "outputs": []
    },
    {
      "cell_type": "code",
      "source": [
        "len(normalized_df)"
      ],
      "metadata": {
        "id": "7mOlV-B3DZZV"
      },
      "execution_count": null,
      "outputs": []
    },
    {
      "cell_type": "code",
      "source": [
        "with open('emotion_data_alt.csv', 'w') as f:\n",
        "  pd.DataFrame(normalized_df).to_csv(f, index=False)"
      ],
      "metadata": {
        "id": "b5UMaV_UFMyF"
      },
      "execution_count": null,
      "outputs": []
    },
    {
      "cell_type": "code",
      "source": [
        "data = pd.read_csv('emotion_data_alt.csv')"
      ],
      "metadata": {
        "id": "96JeRwTAHEF7"
      },
      "execution_count": null,
      "outputs": []
    }
  ]
}